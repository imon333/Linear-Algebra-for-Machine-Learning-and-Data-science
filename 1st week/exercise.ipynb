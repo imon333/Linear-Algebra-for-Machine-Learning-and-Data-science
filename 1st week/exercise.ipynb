{
 "cells": [
  {
   "cell_type": "markdown",
   "id": "3e6bffe8",
   "metadata": {},
   "source": [
    "##### Exercises\n",
    "Well done! Now, from what you learned today, try to answer the following question.\n",
    "\n",
    "Question 1\n",
    "\n",
    "Is there a difference between np.zeros() and np.empty()? Select one of the options given:\n",
    "\n",
    "- A. No difference, they both output arrays of zeros.\n",
    "- B. np.zeros() is not initialized, but gives an output of zeros.\n",
    "- C. np.zeros() is faster to execute than np.empty().\n",
    "- D. np.empty() outputs an uninitialized array, but np.zeros() outputs an initialized array of value zero."
   ]
  },
  {
   "cell_type": "markdown",
   "id": "afb8ab30",
   "metadata": {},
   "source": []
  }
 ],
 "metadata": {
  "language_info": {
   "name": "python"
  }
 },
 "nbformat": 4,
 "nbformat_minor": 5
}
