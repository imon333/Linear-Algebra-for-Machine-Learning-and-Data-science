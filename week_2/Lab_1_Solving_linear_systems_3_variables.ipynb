{
 "cells": [
  {
   "cell_type": "code",
   "execution_count": 1,
   "id": "6ba1c3f3",
   "metadata": {},
   "outputs": [],
   "source": [
    "import numpy as np"
   ]
  },
  {
   "cell_type": "markdown",
   "id": "047d4f0e",
   "metadata": {},
   "source": [
    "<img src=\"/Users/eimon/Desktop/Code/My learning/Linear-Algebra-for-Machine-Learning-and-Data-science/Course1_Linear Equation_eElimination_Row_Echelon/pic/1.png\" alt=\"alt text\" width=\"1500\"/>"
   ]
  },
  {
   "cell_type": "code",
   "execution_count": 7,
   "id": "deb34ac9",
   "metadata": {},
   "outputs": [
    {
     "name": "stdout",
     "output_type": "stream",
     "text": [
      "Matrix A:\n",
      "[[ 4. -3.  1.]\n",
      " [ 2.  1.  3.]\n",
      " [-1.  2. -5.]]\n",
      "\n",
      "Vector B:\n",
      "[-10.   0.  17.]\n"
     ]
    }
   ],
   "source": [
    "A = np.array([\n",
    "    [4,-3,1],\n",
    "    [2,1,3],\n",
    "    [-1,2,-5]\n",
    "    ], dtype=np.dtype(float))\n",
    "B = np.array([-10,0,17],dtype=np.dtype(float))\n",
    "\n",
    "print(\"Matrix A:\")\n",
    "print(A)\n",
    "print(\"\\nVector B:\")\n",
    "print(B)"
   ]
  },
  {
   "cell_type": "code",
   "execution_count": 10,
   "id": "df3a2ba7",
   "metadata": {},
   "outputs": [
    {
     "name": "stdout",
     "output_type": "stream",
     "text": [
      "Shape of A: (3, 3)\n",
      "Shape of B: (3,)\n"
     ]
    }
   ],
   "source": [
    "## Let's check the dimensions of A ans B using shape() function\n",
    "\n",
    "print(f\"Shape of A: {np.shape(A)}\")\n",
    "print(f\"Shape of B: {np.shape(B)}\")"
   ]
  },
  {
   "cell_type": "markdown",
   "id": "91bd1694",
   "metadata": {},
   "source": []
  },
  {
   "cell_type": "code",
   "execution_count": 11,
   "id": "5cafaf9f",
   "metadata": {},
   "outputs": [
    {
     "name": "stdout",
     "output_type": "stream",
     "text": [
      "Solution of the system: [ 1.  4. -2.]\n"
     ]
    }
   ],
   "source": [
    "x = np.linalg.solve(A,B)\n",
    "print(f\"Solution of the system: {x}\")"
   ]
  },
  {
   "cell_type": "markdown",
   "id": "b1f8a511",
   "metadata": {},
   "source": [
    "##### 1.3 - Evaluating the Determinant of a Matrix\n",
    "Matrix A\n",
    " corresponding to the linear system (1)\n",
    " is a square matrix - it has the same number of rows and columns. In the case of a square matrix it is possible to calculate its determinant - a real number that characterizes some properties of the matrix. A linear system containing three equations with three unknown variables will have one solution if and only if the matrix \n",
    " has a non-zero determinant.\n",
    "\n",
    "Let's calculate the determinant using np.linalg.det(A) function:"
   ]
  },
  {
   "cell_type": "code",
   "execution_count": 13,
   "id": "ae55103c",
   "metadata": {},
   "outputs": [
    {
     "name": "stdout",
     "output_type": "stream",
     "text": [
      "Determinant of A: -60.00\n"
     ]
    }
   ],
   "source": [
    "d = np.linalg.det(A)\n",
    "print(f\"Determinant of A: {d:.2f}\")"
   ]
  },
  {
   "cell_type": "markdown",
   "id": "f32ca0bd",
   "metadata": {},
   "source": [
    "#### 2- Solving system of Linear Equations using Row Reduction\n",
    "##### 2.1 - Preparation for Row Reduction\n",
    "The row reduction method for the linear system with three variables. To apply it, first, unify matrix \n",
    " and array \n",
    " into one matrix using np.hstack() function. Note that the shape of the originally defined array b \n",
    " was (3,)\n",
    ", to stack it with the (3,3)\n",
    " matrix you need to transform it so that it has the same number of dimensions. You can use .reshape((3, 1)) function:"
   ]
  },
  {
   "cell_type": "code",
   "execution_count": 23,
   "id": "c097a8dd",
   "metadata": {},
   "outputs": [
    {
     "name": "stdout",
     "output_type": "stream",
     "text": [
      "[[  4.  -3.   1. -10.]\n",
      " [  2.   1.   3.   0.]\n",
      " [ -1.   2.  -5.  17.]]\n"
     ]
    }
   ],
   "source": [
    "A_System = np.hstack((A,B.reshape((3,1))))\n",
    "print(A_System)"
   ]
  },
  {
   "cell_type": "markdown",
   "id": "ca6d6dd0",
   "metadata": {},
   "source": [
    "#### 2.2 - Function for Elementary Operations"
   ]
  },
  {
   "cell_type": "code",
   "execution_count": 24,
   "id": "bca4d2a6",
   "metadata": {},
   "outputs": [
    {
     "name": "stdout",
     "output_type": "stream",
     "text": [
      "Original matrix:\n",
      "[[  4.  -3.   1. -10.]\n",
      " [  2.   1.   3.   0.]\n",
      " [ -1.   2.  -5.  17.]]\n",
      "\n",
      "After multiplying row 2 by 2:\n",
      "[[  4.  -3.   1. -10.]\n",
      " [  4.   2.   6.   0.]\n",
      " [ -1.   2.  -5.  17.]]\n",
      "\n",
      " [[  4.  -3.   1. -10.]\n",
      " [  2.   1.   3.   0.]\n",
      " [ -1.   2.  -5.  17.]]\n"
     ]
    }
   ],
   "source": [
    "# exchange row_num of the matrix M with its multiple by row_num_multiple\n",
    "\n",
    "def MultiplyRow(M, row_num, row_num_multiple):\n",
    "    M_new = M.copy()\n",
    "    # M_new = M # if you want to change the original matrix\n",
    "    M_new[row_num]= M_new[row_num]*row_num_multiple\n",
    "    return M_new\n",
    "\n",
    "print(\"Original matrix:\")\n",
    "print(A_System)\n",
    "print(\"\\nAfter multiplying row 2 by 2:\")\n",
    "print(MultiplyRow(A_System,1,2))\n",
    "\n",
    "print(f\"\\n {A_System}\")\n"
   ]
  },
  {
   "cell_type": "code",
   "execution_count": 25,
   "id": "76d968ad",
   "metadata": {},
   "outputs": [
    {
     "name": "stdout",
     "output_type": "stream",
     "text": [
      "Original matrix:\n",
      "[[  4.  -3.   1. -10.]\n",
      " [  2.   1.   3.   0.]\n",
      " [ -1.   2.  -5.  17.]]\n",
      "\n",
      "Matrix after exchange of the third row with the sum of itself and second row multiplied by 1/2:\n",
      "[[  4.   -3.    1.  -10. ]\n",
      " [  2.    1.    3.    0. ]\n",
      " [  0.    2.5  -3.5  17. ]]\n"
     ]
    }
   ],
   "source": [
    "# multiply row_num_1 by row_num_1_multiple and add it to the row_num_2, \n",
    "# exchanging row_num_2 of the matrix M in the result\n",
    "def AddRows(M, row_num_1, row_num_2, row_num_1_multiple):\n",
    "    M_new = M.copy()\n",
    "    M_new[row_num_2] = row_num_1_multiple * M_new[row_num_1] + M_new[row_num_2]\n",
    "    return M_new\n",
    "\n",
    "print(\"Original matrix:\")\n",
    "print(A_System)\n",
    "print(\"\\nMatrix after exchange of the third row with the sum of itself and second row multiplied by 1/2:\")\n",
    "print(AddRows(A_System,1,2,1/2))"
   ]
  },
  {
   "cell_type": "code",
   "execution_count": 26,
   "id": "456b72b5",
   "metadata": {},
   "outputs": [
    {
     "name": "stdout",
     "output_type": "stream",
     "text": [
      "Original matrix:\n",
      "[[  4.  -3.   1. -10.]\n",
      " [  2.   1.   3.   0.]\n",
      " [ -1.   2.  -5.  17.]]\n",
      "\n",
      "Matrix after exchange of the first and third rows:\n",
      "[[ -1.   2.  -5.  17.]\n",
      " [  2.   1.   3.   0.]\n",
      " [  4.  -3.   1. -10.]]\n"
     ]
    }
   ],
   "source": [
    "# in matrix row 0(index) meands the first row\n",
    "\n",
    "def SwapRows(M,row_num_1, row_num_2):\n",
    "    M_new = M.copy()\n",
    "    M_new[[row_num_1,row_num_2]] = M_new[[row_num_2,row_num_1]]\n",
    "    return M_new\n",
    "\n",
    "print(\"Original matrix:\")\n",
    "print(A_System)\n",
    "print(\"\\nMatrix after exchange of the first and third rows:\")\n",
    "print(SwapRows(A_System,0,2))"
   ]
  },
  {
   "cell_type": "markdown",
   "id": "03463bed",
   "metadata": {},
   "source": [
    "##### 2.3 Row reduction and solution of the linear system"
   ]
  },
  {
   "cell_type": "code",
   "execution_count": 33,
   "id": "6b999744",
   "metadata": {},
   "outputs": [
    {
     "name": "stdout",
     "output_type": "stream",
     "text": [
      "[[ -1.   2.  -5.  17.]\n",
      " [  2.   1.   3.   0.]\n",
      " [  4.  -3.   1. -10.]]\n"
     ]
    }
   ],
   "source": [
    "A_ref = SwapRows(A_System,0,2)\n",
    "print(A_ref)"
   ]
  },
  {
   "cell_type": "code",
   "execution_count": 34,
   "id": "7dcee612",
   "metadata": {},
   "outputs": [
    {
     "name": "stdout",
     "output_type": "stream",
     "text": [
      "[[ -1.   2.  -5.  17.]\n",
      " [  0.   5.  -7.  34.]\n",
      " [  4.  -3.   1. -10.]]\n"
     ]
    }
   ],
   "source": [
    "# Multiply row 0 of the new matrix A_ref by 2 and add it to row 1.\n",
    "\n",
    "A_ref = AddRows(A_ref,0,1,2)\n",
    "print(A_ref)"
   ]
  },
  {
   "cell_type": "code",
   "execution_count": 35,
   "id": "7c73c47d",
   "metadata": {},
   "outputs": [
    {
     "name": "stdout",
     "output_type": "stream",
     "text": [
      "[[ -1.   2.  -5.  17.]\n",
      " [  0.   5.  -7.  34.]\n",
      " [  0.   5. -19.  58.]]\n"
     ]
    }
   ],
   "source": [
    "# multiply row 0 of the new matrix A_ref by 4 and add it to the row 2\n",
    "A_ref = AddRows(A_ref,0,2,4)\n",
    "print(A_ref)"
   ]
  },
  {
   "cell_type": "code",
   "execution_count": 36,
   "id": "3d119dbc",
   "metadata": {},
   "outputs": [
    {
     "name": "stdout",
     "output_type": "stream",
     "text": [
      "[[ -1.   2.  -5.  17.]\n",
      " [  0.   5.  -7.  34.]\n",
      " [  0.   0. -12.  24.]]\n"
     ]
    }
   ],
   "source": [
    "# multiply row 1 of the new matrix A_ref by -1 and add it to the row 2\n",
    "A_ref = AddRows(A_ref,1,2,-1)\n",
    "print(A_ref)"
   ]
  },
  {
   "cell_type": "code",
   "execution_count": 37,
   "id": "cc42f9fa",
   "metadata": {},
   "outputs": [
    {
     "name": "stdout",
     "output_type": "stream",
     "text": [
      "[[-1.  2. -5. 17.]\n",
      " [ 0.  5. -7. 34.]\n",
      " [-0. -0.  1. -2.]]\n"
     ]
    }
   ],
   "source": [
    "# multiply row 2 of the new matrix A_ref by -1/12\n",
    "A_ref = MultiplyRow(A_ref,2,-1/12)\n",
    "print(A_ref)"
   ]
  },
  {
   "cell_type": "code",
   "execution_count": 54,
   "id": "5971af0b",
   "metadata": {},
   "outputs": [
    {
     "name": "stdout",
     "output_type": "stream",
     "text": [
      "1.0 4.0 -2\n"
     ]
    }
   ],
   "source": [
    "x_3 = -2\n",
    "x_2 = (A_ref[1,3] - A_ref[1,2] * x_3) / A_ref[1,1]\n",
    "x_1 = (A_ref[0,3] - A_ref[0,2] * x_3 - A_ref[0,1] * x_2) / A_ref[0,0]\n",
    "\n",
    "print(x_1, x_2, x_3)"
   ]
  },
  {
   "cell_type": "markdown",
   "id": "924a62cc",
   "metadata": {},
   "source": [
    "##### 3 - System of Linear Equations with No Solutions\n"
   ]
  },
  {
   "cell_type": "code",
   "execution_count": 55,
   "id": "31d959bc",
   "metadata": {},
   "outputs": [
    {
     "name": "stdout",
     "output_type": "stream",
     "text": [
      "Determinant of A_2: 0.00\n"
     ]
    }
   ],
   "source": [
    "A_2 = np.array([\n",
    "    [1,1,1],\n",
    "    [0,1,-3],\n",
    "    [2,1,5]\n",
    "    ], dtype=np.dtype(float))\n",
    "\n",
    "b_2 = np.array([2,1,0],dtype=np.dtype(float))\n",
    "d_2 = np.linalg.det(A_2)\n",
    "print(f\"Determinant of A_2: {d_2:.2f}\")"
   ]
  },
  {
   "cell_type": "code",
   "execution_count": 57,
   "id": "81c76854",
   "metadata": {},
   "outputs": [],
   "source": [
    "#print( np.linalg.solve(A_2,b_2) ) ## it's a singular matrix"
   ]
  },
  {
   "cell_type": "code",
   "execution_count": 58,
   "id": "daf2d4e0",
   "metadata": {},
   "outputs": [
    {
     "name": "stdout",
     "output_type": "stream",
     "text": [
      "[[ 1.  1.  1.  2.]\n",
      " [ 0.  1. -3.  1.]\n",
      " [ 2.  1.  5.  0.]]\n"
     ]
    }
   ],
   "source": [
    "A_2_system = np.hstack((A_2, b_2.reshape((3, 1))))\n",
    "print(A_2_system)"
   ]
  },
  {
   "cell_type": "code",
   "execution_count": 59,
   "id": "4cd233f8",
   "metadata": {},
   "outputs": [
    {
     "name": "stdout",
     "output_type": "stream",
     "text": [
      "[[ 1.  1.  1.  2.]\n",
      " [ 0.  1. -3.  1.]\n",
      " [ 0. -1.  3. -4.]]\n"
     ]
    }
   ],
   "source": [
    "# multiply row 0 by -2 and add it to the row 1\n",
    "A_2_ref = AddRows(A_2_system,0,2,-2)\n",
    "print(A_2_ref)"
   ]
  },
  {
   "cell_type": "code",
   "execution_count": 61,
   "id": "a2ccf4af",
   "metadata": {},
   "outputs": [
    {
     "name": "stdout",
     "output_type": "stream",
     "text": [
      "[[ 1.  1.  1.  2.]\n",
      " [ 0.  1. -3.  1.]\n",
      " [ 0.  1. -3. -2.]]\n",
      " The last row shows to the equation 0 = -3 which is impossible, so the system has no solutions.\n"
     ]
    }
   ],
   "source": [
    "# add row 1 of the new matrix A_2_ref to the row 2\n",
    "A_2_ref = AddRows(A_2_ref,1,2,1)\n",
    "print(A_2_ref)\n",
    "print(\" The last row shows to the equation 0 = -3 which is impossible, so the system has no solutions.\")"
   ]
  },
  {
   "cell_type": "markdown",
   "id": "a7dabbd4",
   "metadata": {},
   "source": [
    "##### 4 - System of Linear Equations with Infinite Number of Solutions\n"
   ]
  },
  {
   "cell_type": "code",
   "execution_count": 62,
   "id": "bb4d8599",
   "metadata": {},
   "outputs": [],
   "source": [
    "b_3 = np.array([2,1,3],dtype=np.dtype(float))"
   ]
  },
  {
   "cell_type": "code",
   "execution_count": 63,
   "id": "64e3b92b",
   "metadata": {},
   "outputs": [],
   "source": [
    "A_3 = A_2 \n"
   ]
  },
  {
   "cell_type": "code",
   "execution_count": 64,
   "id": "4aeceb58",
   "metadata": {},
   "outputs": [],
   "source": [
    "A_3 = np.hstack((A_3, b_3.reshape((3, 1))))"
   ]
  },
  {
   "cell_type": "code",
   "execution_count": null,
   "id": "ff038770",
   "metadata": {},
   "outputs": [
    {
     "data": {
      "text/plain": [
       "array([[ 1.,  1.,  1.,  2.],\n",
       "       [ 0.,  1., -3.,  1.],\n",
       "       [ 2.,  1.,  5.,  3.]])"
      ]
     },
     "execution_count": 65,
     "metadata": {},
     "output_type": "execute_result"
    }
   ],
   "source": []
  },
  {
   "cell_type": "code",
   "execution_count": 67,
   "id": "4f768cbe",
   "metadata": {},
   "outputs": [
    {
     "name": "stdout",
     "output_type": "stream",
     "text": [
      "[[ 1.  1.  1.  2.]\n",
      " [ 0.  1. -3.  1.]\n",
      " [ 0. -1.  3. -1.]]\n"
     ]
    }
   ],
   "source": [
    "# multiply row 0 of the new matrix A_3_system by -2 and add it to the row 2\n",
    "A_3_ref = AddRows(A_3,0,2,-2)\n",
    "print(A_3_ref)"
   ]
  },
  {
   "cell_type": "code",
   "execution_count": 70,
   "id": "a42c1983",
   "metadata": {},
   "outputs": [
    {
     "name": "stdout",
     "output_type": "stream",
     "text": [
      "[[ 1.  1.  1.  2.]\n",
      " [ 0.  1. -3.  1.]\n",
      " [ 0.  1. -3.  1.]]\n",
      " where last row 0 = 0, i can see x_2 = 1+ 3x_3, and x_1 = 1 - 4 x_3\n"
     ]
    }
   ],
   "source": [
    "# add row 1 of the new matrix A_3_ref to the row 2\n",
    "A_3_ref = AddRows(A_3_ref,1,2,1)\n",
    "print(A_3_ref)\n",
    "print (\" where last row 0 = 0, i can see x_2 = 1+ 3x_3, and x_1 = 1 - 4 x_3\") "
   ]
  },
  {
   "cell_type": "code",
   "execution_count": null,
   "id": "aa116360",
   "metadata": {},
   "outputs": [],
   "source": []
  }
 ],
 "metadata": {
  "kernelspec": {
   "display_name": "venv",
   "language": "python",
   "name": "python3"
  },
  "language_info": {
   "codemirror_mode": {
    "name": "ipython",
    "version": 3
   },
   "file_extension": ".py",
   "mimetype": "text/x-python",
   "name": "python",
   "nbconvert_exporter": "python",
   "pygments_lexer": "ipython3",
   "version": "3.11.4"
  }
 },
 "nbformat": 4,
 "nbformat_minor": 5
}
