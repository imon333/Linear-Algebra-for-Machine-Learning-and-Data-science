{
 "cells": [
  {
   "cell_type": "code",
   "execution_count": 1,
   "id": "6ba1c3f3",
   "metadata": {},
   "outputs": [],
   "source": [
    "import numpy as np"
   ]
  },
  {
   "cell_type": "markdown",
   "id": "047d4f0e",
   "metadata": {},
   "source": [
    "<img src=\"/Users/eimon/Desktop/Code/My learning/Linear-Algebra-for-Machine-Learning-and-Data-science/Course1_Linear Equation_eElimination_Row_Echelon/pic/1.png\" alt=\"alt text\" width=\"1500\"/>"
   ]
  },
  {
   "cell_type": "code",
   "execution_count": 7,
   "id": "deb34ac9",
   "metadata": {},
   "outputs": [
    {
     "name": "stdout",
     "output_type": "stream",
     "text": [
      "Matrix A:\n",
      "[[ 4. -3.  1.]\n",
      " [ 2.  1.  3.]\n",
      " [-1.  2. -5.]]\n",
      "\n",
      "Vector B:\n",
      "[-10.   0.  17.]\n"
     ]
    }
   ],
   "source": [
    "A = np.array([\n",
    "    [4,-3,1],\n",
    "    [2,1,3],\n",
    "    [-1,2,-5]\n",
    "    ], dtype=np.dtype(float))\n",
    "B = np.array([-10,0,17],dtype=np.dtype(float))\n",
    "\n",
    "print(\"Matrix A:\")\n",
    "print(A)\n",
    "print(\"\\nVector B:\")\n",
    "print(B)"
   ]
  },
  {
   "cell_type": "code",
   "execution_count": 10,
   "id": "df3a2ba7",
   "metadata": {},
   "outputs": [
    {
     "name": "stdout",
     "output_type": "stream",
     "text": [
      "Shape of A: (3, 3)\n",
      "Shape of B: (3,)\n"
     ]
    }
   ],
   "source": [
    "## Let's check the dimensions of A ans B using shape() function\n",
    "\n",
    "print(f\"Shape of A: {np.shape(A)}\")\n",
    "print(f\"Shape of B: {np.shape(B)}\")"
   ]
  },
  {
   "cell_type": "markdown",
   "id": "91bd1694",
   "metadata": {},
   "source": []
  },
  {
   "cell_type": "code",
   "execution_count": 11,
   "id": "5cafaf9f",
   "metadata": {},
   "outputs": [
    {
     "name": "stdout",
     "output_type": "stream",
     "text": [
      "Solution of the system: [ 1.  4. -2.]\n"
     ]
    }
   ],
   "source": [
    "x = np.linalg.solve(A,B)\n",
    "print(f\"Solution of the system: {x}\")"
   ]
  },
  {
   "cell_type": "code",
   "execution_count": null,
   "id": "ae55103c",
   "metadata": {},
   "outputs": [],
   "source": []
  }
 ],
 "metadata": {
  "kernelspec": {
   "display_name": "venv",
   "language": "python",
   "name": "python3"
  },
  "language_info": {
   "codemirror_mode": {
    "name": "ipython",
    "version": 3
   },
   "file_extension": ".py",
   "mimetype": "text/x-python",
   "name": "python",
   "nbconvert_exporter": "python",
   "pygments_lexer": "ipython3",
   "version": "3.11.4"
  }
 },
 "nbformat": 4,
 "nbformat_minor": 5
}
