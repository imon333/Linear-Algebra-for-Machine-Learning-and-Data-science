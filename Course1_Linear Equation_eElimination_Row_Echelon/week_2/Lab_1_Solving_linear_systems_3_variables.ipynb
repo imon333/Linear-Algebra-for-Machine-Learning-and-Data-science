{
 "cells": [
  {
   "cell_type": "code",
   "execution_count": 1,
   "id": "6ba1c3f3",
   "metadata": {},
   "outputs": [],
   "source": [
    "import numpy as np"
   ]
  },
  {
   "cell_type": "markdown",
   "id": "047d4f0e",
   "metadata": {},
   "source": [
    "<img src=\"/Users/eimon/Desktop/Code/My learning/Linear-Algebra-for-Machine-Learning-and-Data-science/Course1_Linear Equation_eElimination_Row_Echelon/pic/1.png\" alt=\"alt text\" width=\"1500\"/>"
   ]
  },
  {
   "cell_type": "code",
   "execution_count": 7,
   "id": "deb34ac9",
   "metadata": {},
   "outputs": [
    {
     "name": "stdout",
     "output_type": "stream",
     "text": [
      "Matrix A:\n",
      "[[ 4. -3.  1.]\n",
      " [ 2.  1.  3.]\n",
      " [-1.  2. -5.]]\n",
      "\n",
      "Vector B:\n",
      "[-10.   0.  17.]\n"
     ]
    }
   ],
   "source": [
    "A = np.array([\n",
    "    [4,-3,1],\n",
    "    [2,1,3],\n",
    "    [-1,2,-5]\n",
    "    ], dtype=np.dtype(float))\n",
    "B = np.array([-10,0,17],dtype=np.dtype(float))\n",
    "\n",
    "print(\"Matrix A:\")\n",
    "print(A)\n",
    "print(\"\\nVector B:\")\n",
    "print(B)"
   ]
  },
  {
   "cell_type": "code",
   "execution_count": 10,
   "id": "df3a2ba7",
   "metadata": {},
   "outputs": [
    {
     "name": "stdout",
     "output_type": "stream",
     "text": [
      "Shape of A: (3, 3)\n",
      "Shape of B: (3,)\n"
     ]
    }
   ],
   "source": [
    "## Let's check the dimensions of A ans B using shape() function\n",
    "\n",
    "print(f\"Shape of A: {np.shape(A)}\")\n",
    "print(f\"Shape of B: {np.shape(B)}\")"
   ]
  },
  {
   "cell_type": "markdown",
   "id": "91bd1694",
   "metadata": {},
   "source": []
  },
  {
   "cell_type": "code",
   "execution_count": 11,
   "id": "5cafaf9f",
   "metadata": {},
   "outputs": [
    {
     "name": "stdout",
     "output_type": "stream",
     "text": [
      "Solution of the system: [ 1.  4. -2.]\n"
     ]
    }
   ],
   "source": [
    "x = np.linalg.solve(A,B)\n",
    "print(f\"Solution of the system: {x}\")"
   ]
  },
  {
   "cell_type": "markdown",
   "id": "b1f8a511",
   "metadata": {},
   "source": [
    "##### 1.3 - Evaluating the Determinant of a Matrix\n",
    "Matrix A\n",
    " corresponding to the linear system (1)\n",
    " is a square matrix - it has the same number of rows and columns. In the case of a square matrix it is possible to calculate its determinant - a real number that characterizes some properties of the matrix. A linear system containing three equations with three unknown variables will have one solution if and only if the matrix \n",
    " has a non-zero determinant.\n",
    "\n",
    "Let's calculate the determinant using np.linalg.det(A) function:"
   ]
  },
  {
   "cell_type": "code",
   "execution_count": 13,
   "id": "ae55103c",
   "metadata": {},
   "outputs": [
    {
     "name": "stdout",
     "output_type": "stream",
     "text": [
      "Determinant of A: -60.00\n"
     ]
    }
   ],
   "source": [
    "d = np.linalg.det(A)\n",
    "print(f\"Determinant of A: {d:.2f}\")"
   ]
  },
  {
   "cell_type": "markdown",
   "id": "f32ca0bd",
   "metadata": {},
   "source": [
    "#### 2- Solving system of Linear Equations using Row Reduction\n",
    "##### 2.1 - Preparation for Row Reduction\n",
    "The row reduction method for the linear system with three variables. To apply it, first, unify matrix \n",
    " and array \n",
    " into one matrix using np.hstack() function. Note that the shape of the originally defined array b \n",
    " was (3,)\n",
    ", to stack it with the (3,3)\n",
    " matrix you need to transform it so that it has the same number of dimensions. You can use .reshape((3, 1)) function:"
   ]
  },
  {
   "cell_type": "code",
   "execution_count": 23,
   "id": "c097a8dd",
   "metadata": {},
   "outputs": [
    {
     "name": "stdout",
     "output_type": "stream",
     "text": [
      "[[  4.  -3.   1. -10.]\n",
      " [  2.   1.   3.   0.]\n",
      " [ -1.   2.  -5.  17.]]\n"
     ]
    }
   ],
   "source": [
    "A_System = np.hstack((A,B.reshape((3,1))))\n",
    "print(A_System)"
   ]
  },
  {
   "cell_type": "markdown",
   "id": "ca6d6dd0",
   "metadata": {},
   "source": [
    "#### 2.2 - Function for Elementary Operations"
   ]
  },
  {
   "cell_type": "code",
   "execution_count": 24,
   "id": "bca4d2a6",
   "metadata": {},
   "outputs": [
    {
     "name": "stdout",
     "output_type": "stream",
     "text": [
      "Original matrix:\n",
      "[[  4.  -3.   1. -10.]\n",
      " [  2.   1.   3.   0.]\n",
      " [ -1.   2.  -5.  17.]]\n",
      "\n",
      "After multiplying row 2 by 2:\n",
      "[[  4.  -3.   1. -10.]\n",
      " [  4.   2.   6.   0.]\n",
      " [ -1.   2.  -5.  17.]]\n",
      "\n",
      " [[  4.  -3.   1. -10.]\n",
      " [  2.   1.   3.   0.]\n",
      " [ -1.   2.  -5.  17.]]\n"
     ]
    }
   ],
   "source": [
    "# exchange row_num of the matrix M with its multiple by row_num_multiple\n",
    "\n",
    "def MultiplyRow(M, row_num, row_num_multiple):\n",
    "    M_new = M.copy()\n",
    "    # M_new = M # if you want to change the original matrix\n",
    "    M_new[row_num]= M_new[row_num]*row_num_multiple\n",
    "    return M_new\n",
    "\n",
    "print(\"Original matrix:\")\n",
    "print(A_System)\n",
    "print(\"\\nAfter multiplying row 2 by 2:\")\n",
    "print(MultiplyRow(A_System,1,2))\n",
    "\n",
    "print(f\"\\n {A_System}\")\n"
   ]
  },
  {
   "cell_type": "code",
   "execution_count": null,
   "id": "76d968ad",
   "metadata": {},
   "outputs": [],
   "source": []
  }
 ],
 "metadata": {
  "kernelspec": {
   "display_name": "venv",
   "language": "python",
   "name": "python3"
  },
  "language_info": {
   "codemirror_mode": {
    "name": "ipython",
    "version": 3
   },
   "file_extension": ".py",
   "mimetype": "text/x-python",
   "name": "python",
   "nbconvert_exporter": "python",
   "pygments_lexer": "ipython3",
   "version": "3.11.4"
  }
 },
 "nbformat": 4,
 "nbformat_minor": 5
}
