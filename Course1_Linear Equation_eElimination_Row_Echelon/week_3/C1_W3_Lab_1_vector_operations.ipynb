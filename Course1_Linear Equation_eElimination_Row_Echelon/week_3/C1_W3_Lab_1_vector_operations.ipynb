{
 "cells": [
  {
   "cell_type": "markdown",
   "id": "7edfc649",
   "metadata": {},
   "source": [
    "#### Vector Operations: Scalar Multiplication, Sum and Dot Product of Vectors\n",
    "In this lab you will use Python and NumPy functions to perform main vector operations: scalar multiplication, sum of vectors and their dot product. You will also investigate the speed of calculations using loop and vectorized forms of these main linear algebra operations"
   ]
  },
  {
   "cell_type": "code",
   "execution_count": 2,
   "id": "7aa9f3bf",
   "metadata": {},
   "outputs": [],
   "source": [
    "import numpy as np"
   ]
  },
  {
   "cell_type": "code",
   "execution_count": null,
   "id": "8307375b",
   "metadata": {},
   "outputs": [],
   "source": []
  }
 ],
 "metadata": {
  "kernelspec": {
   "display_name": "venv",
   "language": "python",
   "name": "python3"
  },
  "language_info": {
   "codemirror_mode": {
    "name": "ipython",
    "version": 3
   },
   "file_extension": ".py",
   "mimetype": "text/x-python",
   "name": "python",
   "nbconvert_exporter": "python",
   "pygments_lexer": "ipython3",
   "version": "3.11.4"
  }
 },
 "nbformat": 4,
 "nbformat_minor": 5
}
